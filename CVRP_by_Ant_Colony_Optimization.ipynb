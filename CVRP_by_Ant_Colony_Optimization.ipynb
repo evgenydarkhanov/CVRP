{
  "nbformat": 4,
  "nbformat_minor": 0,
  "metadata": {
    "colab": {
      "provenance": []
    },
    "kernelspec": {
      "name": "python3",
      "display_name": "Python 3"
    },
    "language_info": {
      "name": "python"
    }
  },
  "cells": [
    {
      "cell_type": "code",
      "source": [
        "%%capture\n",
        "!pip install vrplib"
      ],
      "metadata": {
        "id": "wYZ5u26Kg0lM"
      },
      "execution_count": null,
      "outputs": []
    },
    {
      "cell_type": "code",
      "source": [
        "!wget -P /content http://vrp.atd-lab.inf.puc-rio.br/media/com_vrp/instances/Vrp-Set-A.zip\n",
        "!wget -P /content http://vrp.atd-lab.inf.puc-rio.br/media/com_vrp/instances/Vrp-Set-B.zip\n",
        "!wget -P /content http://vrp.atd-lab.inf.puc-rio.br/media/com_vrp/instances/Vrp-Set-E.zip"
      ],
      "metadata": {
        "colab": {
          "base_uri": "https://localhost:8080/"
        },
        "id": "G8q8LdYGAnky",
        "outputId": "dbf3872f-8818-408d-895f-a9119f558064"
      },
      "execution_count": null,
      "outputs": [
        {
          "output_type": "stream",
          "name": "stdout",
          "text": [
            "--2024-02-13 08:28:20--  http://vrp.atd-lab.inf.puc-rio.br/media/com_vrp/instances/Vrp-Set-A.zip\n",
            "Resolving vrp.atd-lab.inf.puc-rio.br (vrp.atd-lab.inf.puc-rio.br)... 139.82.16.196\n",
            "Connecting to vrp.atd-lab.inf.puc-rio.br (vrp.atd-lab.inf.puc-rio.br)|139.82.16.196|:80... connected.\n",
            "HTTP request sent, awaiting response... 200 OK\n",
            "Length: 28296 (28K) [application/zip]\n",
            "Saving to: ‘/content/Vrp-Set-A.zip’\n",
            "\n",
            "Vrp-Set-A.zip       100%[===================>]  27.63K   171KB/s    in 0.2s    \n",
            "\n",
            "2024-02-13 08:28:21 (171 KB/s) - ‘/content/Vrp-Set-A.zip’ saved [28296/28296]\n",
            "\n"
          ]
        }
      ]
    },
    {
      "cell_type": "code",
      "source": [
        "import vrplib\n",
        "import zipfile\n",
        "import numpy as np\n",
        "import re\n",
        "import matplotlib.pyplot as plt\n",
        "import copy"
      ],
      "metadata": {
        "id": "FyrH9ymQg3XR"
      },
      "execution_count": null,
      "outputs": []
    },
    {
      "cell_type": "code",
      "source": [
        "# setA\n",
        "urlA = 'http://vrp.atd-lab.inf.puc-rio.br/media/com_vrp/instances/Vrp-Set-A.zip'\n",
        "\n",
        "filename = urlA.split('/')[-1]\n",
        "\n",
        "archive = filename\n",
        "\n",
        "with zipfile.ZipFile(archive, 'r') as myzip:\n",
        "    myzip.extractall('.')\n",
        "    tmp = myzip.namelist()[::-1]\n",
        "    instances_A = tmp[1::2]\n",
        "    solutions_A = tmp[::2]\n",
        "    instances_A[-1], solutions_A[-2] = solutions_A[-2], instances_A[-1]\n",
        "    solutions_A.pop()\n",
        "\n",
        "print(instances_A)\n",
        "print(solutions_A)"
      ],
      "metadata": {
        "id": "iEyS2Ms-E2U6",
        "colab": {
          "base_uri": "https://localhost:8080/"
        },
        "outputId": "97c266a5-4d77-47e5-cdbc-872c0106b634"
      },
      "execution_count": null,
      "outputs": [
        {
          "output_type": "stream",
          "name": "stdout",
          "text": [
            "['A/A-n32-k5.vrp', 'A/A-n33-k5.vrp', 'A/A-n33-k6.vrp', 'A/A-n34-k5.vrp', 'A/A-n36-k5.vrp', 'A/A-n37-k5.vrp', 'A/A-n37-k6.vrp', 'A/A-n38-k5.vrp', 'A/A-n39-k5.vrp', 'A/A-n39-k6.vrp', 'A/A-n44-k6.vrp', 'A/A-n45-k6.vrp', 'A/A-n45-k7.vrp', 'A/A-n46-k7.vrp', 'A/A-n48-k7.vrp', 'A/A-n53-k7.vrp', 'A/A-n54-k7.vrp', 'A/A-n55-k9.vrp', 'A/A-n60-k9.vrp', 'A/A-n61-k9.vrp', 'A/A-n62-k8.vrp', 'A/A-n63-k10.vrp', 'A/A-n63-k9.vrp', 'A/A-n64-k9.vrp', 'A/A-n65-k9.vrp', 'A/A-n69-k9.vrp', 'A/A-n80-k10.vrp']\n",
            "['A/A-n32-k5.sol', 'A/A-n33-k5.sol', 'A/A-n33-k6.sol', 'A/A-n34-k5.sol', 'A/A-n36-k5.sol', 'A/A-n37-k5.sol', 'A/A-n37-k6.sol', 'A/A-n38-k5.sol', 'A/A-n39-k5.sol', 'A/A-n39-k6.sol', 'A/A-n44-k6.sol', 'A/A-n45-k6.sol', 'A/A-n45-k7.sol', 'A/A-n46-k7.sol', 'A/A-n48-k7.sol', 'A/A-n53-k7.sol', 'A/A-n54-k7.sol', 'A/A-n55-k9.sol', 'A/A-n60-k9.sol', 'A/A-n61-k9.sol', 'A/A-n62-k8.sol', 'A/A-n63-k10.sol', 'A/A-n63-k9.sol', 'A/A-n64-k9.sol', 'A/A-n65-k9.sol', 'A/A-n69-k9.sol', 'A/A-n80-k10.sol']\n"
          ]
        }
      ]
    },
    {
      "cell_type": "code",
      "source": [
        "# setB\n",
        "urlB = 'http://vrp.atd-lab.inf.puc-rio.br/media/com_vrp/instances/Vrp-Set-B.zip'\n",
        "\n",
        "filename = urlB.split('/')[-1]\n",
        "\n",
        "archive = filename\n",
        "\n",
        "with zipfile.ZipFile(archive, 'r') as myzip:\n",
        "    myzip.extractall('.')\n",
        "    tmp = myzip.namelist()[::-1]\n",
        "    instances_B = []\n",
        "    solutions_B = []\n",
        "    for elem in tmp:\n",
        "        if elem[-3:] == 'vrp':\n",
        "            instances_B.append(elem)\n",
        "        elif elem[-3:] == 'sol':\n",
        "            solutions_B.append(elem)\n",
        "\n",
        "print(instances_B)\n",
        "print(solutions_B)"
      ],
      "metadata": {
        "colab": {
          "base_uri": "https://localhost:8080/"
        },
        "id": "zgOn1_LmlXcK",
        "outputId": "18defd48-9d58-4845-e7ee-71134549c3bf"
      },
      "execution_count": null,
      "outputs": [
        {
          "output_type": "stream",
          "name": "stdout",
          "text": [
            "['B/B-n31-k5.vrp', 'B/B-n34-k5.vrp', 'B/B-n35-k5.vrp', 'B/B-n38-k6.vrp', 'B/B-n39-k5.vrp', 'B/B-n41-k6.vrp', 'B/B-n43-k6.vrp', 'B/B-n44-k7.vrp', 'B/B-n45-k5.vrp', 'B/B-n45-k6.vrp', 'B/B-n50-k7.vrp', 'B/B-n50-k8.vrp', 'B/B-n51-k7.vrp', 'B/B-n52-k7.vrp', 'B/B-n56-k7.vrp', 'B/B-n57-k7.vrp', 'B/B-n57-k9.vrp', 'B/B-n63-k10.vrp', 'B/B-n64-k9.vrp', 'B/B-n66-k9.vrp', 'B/B-n67-k10.vrp', 'B/B-n68-k9.vrp', 'B/B-n78-k10.vrp']\n",
            "['B/B-n31-k5.sol', 'B/B-n34-k5.sol', 'B/B-n35-k5.sol', 'B/B-n38-k6.sol', 'B/B-n39-k5.sol', 'B/B-n41-k6.sol', 'B/B-n43-k6.sol', 'B/B-n44-k7.sol', 'B/B-n45-k5.sol', 'B/B-n45-k6.sol', 'B/B-n50-k7.sol', 'B/B-n50-k8.sol', 'B/B-n51-k7.sol', 'B/B-n52-k7.sol', 'B/B-n56-k7.sol', 'B/B-n57-k7.sol', 'B/B-n63-k10.sol', 'B/B-n64-k9.sol', 'B/B-n66-k9.sol', 'B/B-n67-k10.sol', 'B/B-n68-k9.sol', 'B/B-n78-k10.sol', 'B/B-n57-k9.sol']\n"
          ]
        }
      ]
    },
    {
      "cell_type": "code",
      "source": [
        "# setE\n",
        "urlE = 'http://vrp.atd-lab.inf.puc-rio.br/media/com_vrp/instances/Vrp-Set-E.zip'\n",
        "\n",
        "filename = urlE.split('/')[-1]\n",
        "\n",
        "archive = filename\n",
        "\n",
        "with zipfile.ZipFile(archive, 'r') as myzip:\n",
        "    myzip.extractall('.')\n",
        "    tmp = myzip.namelist()[::-1]\n",
        "    instances_E = []\n",
        "    solutions_E = []\n",
        "    for elem in tmp:\n",
        "        if elem[-3:] == 'vrp':\n",
        "            instances_E.append(elem)\n",
        "        elif elem[-3:] == 'sol':\n",
        "            solutions_E.append(elem)\n",
        "\n",
        "print(instances_E)\n",
        "print(solutions_E)"
      ],
      "metadata": {
        "colab": {
          "base_uri": "https://localhost:8080/"
        },
        "id": "RHVxfilij3sS",
        "outputId": "6eec2618-6c80-4648-dfa5-41f4d1581a33"
      },
      "execution_count": null,
      "outputs": [
        {
          "output_type": "stream",
          "name": "stdout",
          "text": [
            "['E/E-n101-k14.vrp', 'E/E-n101-k8.vrp', 'E/E-n13-k4.vrp', 'E/E-n22-k4.vrp', 'E/E-n23-k3.vrp', 'E/E-n30-k3.vrp', 'E/E-n31-k7.vrp', 'E/E-n33-k4.vrp', 'E/E-n51-k5.vrp', 'E/E-n76-k10.vrp', 'E/E-n76-k14.vrp', 'E/E-n76-k7.vrp', 'E/E-n76-k8.vrp']\n",
            "['E/E-n101-k14.sol', 'E/E-n101-k8.sol', 'E/E-n13-k4.sol', 'E/E-n22-k4.sol', 'E/E-n23-k3.sol', 'E/E-n30-k3.sol', 'E/E-n31-k7.sol', 'E/E-n33-k4.sol', 'E/E-n51-k5.sol', 'E/E-n76-k10.sol', 'E/E-n76-k14.sol', 'E/E-n76-k8.sol', 'E/E-n76-k7.sol']\n"
          ]
        }
      ]
    },
    {
      "cell_type": "code",
      "source": [
        "def cars(cvrp_problem: dict):\n",
        "    cars, optimal = map(int, re.findall('\\d+', cvrp_problem['comment']))\n",
        "    return cars\n",
        "\n",
        "def min_distance(cvrp_problem: dict):\n",
        "    distances = cvrp_problem['edge_weight']\n",
        "    minimum = distances[0][1]\n",
        "    for i in range(len(distances)):\n",
        "        for j in range(i, len(distances[0])):\n",
        "            if 0 < distances[i][j] < minimum:\n",
        "                minimum = distances[i][j]\n",
        "    return minimum"
      ],
      "metadata": {
        "id": "ZsJmB1VxkdNg"
      },
      "execution_count": null,
      "outputs": []
    },
    {
      "cell_type": "code",
      "execution_count": null,
      "metadata": {
        "id": "Jcr3ojIBgKxM"
      },
      "outputs": [],
      "source": [
        "class Ants:\n",
        "    def __init__(self, instance, num_vertices, num_ants, alpha, beta, q0, tau_0, ITERATIONS):\n",
        "        self.instance = instance\n",
        "        self.num_vertices = num_vertices\n",
        "        self.num_ants = num_ants\n",
        "        self.alpha = alpha\n",
        "        self.beta = beta\n",
        "        self.q0 = q0\n",
        "        self.tau_0 = tau_0\n",
        "        self.ITERATIONS = ITERATIONS\n",
        "\n",
        "    def _pheromones_init(self):\n",
        "        result = np.ones_like(self.instance['edge_weight']) * self.tau_0\n",
        "        for i in range(len(result)):\n",
        "            result[i][i] = 0\n",
        "        return result\n",
        "\n",
        "    def _local_pheromones_update(self, ant_route, len_route):\n",
        "        for i in range(len(ant_route) - 1):\n",
        "            # tau_0 = ((self.num_vertices + 1) * len_route) ** (-1) # adaptive tau_0?\n",
        "            tau = self.pheromones[ant_route[i]][ant_route[i+1]]\n",
        "            self.pheromones[ant_route[i]][ant_route[i+1]] = (1 - self.alpha) * tau + self.alpha * self.tau_0\n",
        "            self.pheromones[ant_route[i+1]][ant_route[i]] = self.pheromones[ant_route[i]][ant_route[i+1]]\n",
        "        return self.pheromones\n",
        "\n",
        "    def _global_pheromones_update(self, ant_routes, len_routes):\n",
        "        best_len = min(len_routes)\n",
        "        best_index = len_routes.index(best_len)\n",
        "        best_route = ant_routes[best_index]\n",
        "        for i in range(len(best_route) - 1):\n",
        "            tau = self.pheromones[best_route[i]][best_route[i+1]]\n",
        "            self.pheromones[best_route[i]][best_route[i+1]] = (1 - self.alpha) * tau + self.alpha / best_len\n",
        "            self.pheromones[best_route[i+1]][best_route[i]] = self.pheromones[best_route[i]][best_route[i+1]]\n",
        "        return self.pheromones\n",
        "\n",
        "    def _select_next_vertex(self, current_vertex, visited_vertices):\n",
        "        unvisited_vertices = [vertex for vertex in range(self.num_vertices) if vertex not in visited_vertices]\n",
        "        probabilities = [self.pheromones[current_vertex][next_vertex] * (1 / self.instance['edge_weight'][current_vertex][next_vertex]) ** self.beta for next_vertex in unvisited_vertices]\n",
        "        probabilities = np.nan_to_num(probabilities) # not good\n",
        "        tmp = np.argmax(probabilities)\n",
        "        if len(unvisited_vertices) > 1:\n",
        "            probabilities[tmp] = 0\n",
        "            probabilities /= np.sum(probabilities)\n",
        "            probabilities *= (1 - self.q0)\n",
        "            probabilities[tmp] = self.q0\n",
        "            next_vertex = np.random.choice(unvisited_vertices, p=probabilities)\n",
        "        else:\n",
        "            next_vertex = unvisited_vertices[tmp]\n",
        "        return next_vertex\n",
        "\n",
        "    def _next_vertex_demand(self, next_vertex):\n",
        "        demand = self.instance['demand'][next_vertex]\n",
        "        return demand\n",
        "\n",
        "    def _distance_between(self, current_vertex, next_vertex):\n",
        "        distance = self.instance['edge_weight'][current_vertex][next_vertex]\n",
        "        return distance\n",
        "\n",
        "    def run(self):\n",
        "        np.random.seed(100)\n",
        "        self.pheromones = self._pheromones_init()\n",
        "        for i in range(self.ITERATIONS):\n",
        "            self.ant_routes = []\n",
        "            self.len_routes = []\n",
        "            depot = 0\n",
        "            self.visited_vertices = [depot]\n",
        "\n",
        "            for ant in range(self.num_ants):\n",
        "                self.current_vertex = depot\n",
        "                self.ant_route = [self.current_vertex]\n",
        "\n",
        "                len_route = 0\n",
        "                next_demand = 0\n",
        "                capacity = self.instance['capacity']\n",
        "\n",
        "                while len(self.visited_vertices) < self.num_vertices:\n",
        "                    next_vertex = self._select_next_vertex(self.current_vertex, self.visited_vertices)\n",
        "                    next_demand = self._next_vertex_demand(next_vertex)\n",
        "                    if next_demand > capacity:\n",
        "                        break\n",
        "\n",
        "                    self.ant_route.append(next_vertex)\n",
        "                    self.visited_vertices.append(next_vertex)\n",
        "                    len_route += self._distance_between(self.current_vertex, next_vertex)\n",
        "                    capacity -= next_demand\n",
        "                    self.current_vertex = next_vertex\n",
        "\n",
        "                self.ant_route.append(0)\n",
        "                len_route += self._distance_between(self.current_vertex, 0)\n",
        "                self.ant_routes.append(self.ant_route)\n",
        "                self.len_routes.append(len_route)\n",
        "\n",
        "                self._local_pheromones_update(self.ant_route, len_route)\n",
        "\n",
        "            self._global_pheromones_update(self.ant_routes, self.len_routes)\n",
        "\n",
        "        return self\n",
        "\n",
        "        def ant_routes(self):\n",
        "            return self.ant_routes\n",
        "\n",
        "        def len_routes(self):\n",
        "            return self.len_routes"
      ]
    },
    {
      "cell_type": "code",
      "source": [
        "def drawing_ants(ant_routes, num_ants, cvrp_problem):\n",
        "    nodes_coord = dict()\n",
        "    for i in range(cvrp_problem['dimension']):\n",
        "        nodes_coord[i] = cvrp_problem['node_coord'][i]\n",
        "\n",
        "    draw_depot = cvrp_problem['node_coord'][0]\n",
        "    x = cvrp_problem['node_coord'][1:, 0]\n",
        "    y = cvrp_problem['node_coord'][1:, 1]\n",
        "\n",
        "    plt.figure(figsize=(8, 6))\n",
        "\n",
        "    plt.scatter(*draw_depot, color='red', linewidth=8)\n",
        "    plt.scatter(x, y)\n",
        "\n",
        "    ant_routes_draw = copy.deepcopy(ant_routes)\n",
        "\n",
        "    colours = ['blue', 'red', 'green', 'orange', 'purple']\n",
        "\n",
        "    for i in range(num_ants):\n",
        "        line_x = []\n",
        "        line_y = []\n",
        "        for elem in ant_routes_draw[i]:\n",
        "            line_x.append(list(nodes_coord[elem])[0])\n",
        "            line_y.append(list(nodes_coord[elem])[1])\n",
        "            if num_ants <= len(colours):\n",
        "                plt.plot(line_x, line_y, color = colours[i], linestyle='dashed')\n",
        "            else:\n",
        "                plt.plot(line_x, line_y, linestyle='dashed')\n",
        "\n",
        "    plt.grid()\n",
        "    plt.show()"
      ],
      "metadata": {
        "id": "n88_eZ__qVnH"
      },
      "execution_count": null,
      "outputs": []
    },
    {
      "cell_type": "code",
      "source": [
        "def running_ants(instances, alpha, beta, q0, ITERATIONS):\n",
        "    costs_ants = []\n",
        "    for elem in instances:\n",
        "        instance = vrplib.read_instance(elem)\n",
        "        num_vertices = instance['dimension']\n",
        "        num_ants = cars(instance)\n",
        "        # alpha = 0.9\n",
        "        # beta = 2.4\n",
        "        # q0 = 0.9\n",
        "        tau_0 = ((num_vertices + 1)* min_distance(instance)) ** (-1)\n",
        "\n",
        "        ant = Ants(instance, num_vertices, num_ants, alpha, beta, q0, tau_0, ITERATIONS)\n",
        "        ant.run()\n",
        "        costs_ants.append(np.sum(ant.len_routes))\n",
        "\n",
        "    return costs_ants"
      ],
      "metadata": {
        "id": "SLBffi14JhXH"
      },
      "execution_count": null,
      "outputs": []
    },
    {
      "cell_type": "code",
      "source": [
        "%%time\n",
        "Set_A_result = running_ants(instances_A, alpha=0.2, beta=2.5, q0=0.9, ITERATIONS=1000)\n",
        "Set_A_result"
      ],
      "metadata": {
        "colab": {
          "base_uri": "https://localhost:8080/"
        },
        "id": "RcDvErPBNwga",
        "outputId": "5b166472-796f-457b-ea8b-3d67c2260969"
      },
      "execution_count": null,
      "outputs": [
        {
          "output_type": "stream",
          "name": "stderr",
          "text": [
            "<ipython-input-71-c47e65287362>:41: RuntimeWarning: divide by zero encountered in double_scalars\n",
            "  probabilities = [self.pheromones[current_vertex][next_vertex] * (1 / self.instance['edge_weight'][current_vertex][next_vertex]) ** self.beta for next_vertex in unvisited_vertices]\n"
          ]
        },
        {
          "output_type": "stream",
          "name": "stdout",
          "text": [
            "CPU times: user 4min 35s, sys: 6.36 s, total: 4min 41s\n",
            "Wall time: 4min 43s\n"
          ]
        },
        {
          "output_type": "execute_result",
          "data": {
            "text/plain": [
              "[1032.1063551413695,\n",
              " 834.0492884812063,\n",
              " 757.187048811671,\n",
              " 913.3440468837184,\n",
              " 1116.6709892028111,\n",
              " 894.333976111143,\n",
              " 1096.70598315386,\n",
              " 878.8009241586522,\n",
              " 1035.118951214395,\n",
              " 1057.4692400814306,\n",
              " 1103.764821566912,\n",
              " 1120.8525719494035,\n",
              " 1467.0268350157173,\n",
              " 1390.2759215015308,\n",
              " 1304.1103485654162,\n",
              " 1225.7915656917091,\n",
              " 1466.881864836887,\n",
              " 1373.890672111213,\n",
              " 1490.9258663217822,\n",
              " 1047.4521190233334,\n",
              " 1575.8458538033547,\n",
              " 1654.4268642366128,\n",
              " 1780.526867356045,\n",
              " 1473.8901823253675,\n",
              " 1525.5343324536896,\n",
              " 1510.2929740631866,\n",
              " 2112.2306001556585]"
            ]
          },
          "metadata": {},
          "execution_count": 123
        }
      ]
    },
    {
      "cell_type": "code",
      "source": [
        "%%time\n",
        "Set_B_result = running_ants(instances_B, alpha=0.9, beta=2, q0=0.9, ITERATIONS=1000)\n",
        "Set_B_result"
      ],
      "metadata": {
        "colab": {
          "base_uri": "https://localhost:8080/"
        },
        "id": "2fkRWcKe64sj",
        "outputId": "885cf817-8b54-4ef5-b1d4-cfe529ec9d00"
      },
      "execution_count": null,
      "outputs": [
        {
          "output_type": "stream",
          "name": "stderr",
          "text": [
            "<ipython-input-71-c47e65287362>:41: RuntimeWarning: divide by zero encountered in double_scalars\n",
            "  probabilities = [self.pheromones[current_vertex][next_vertex] * (1 / self.instance['edge_weight'][current_vertex][next_vertex]) ** self.beta for next_vertex in unvisited_vertices]\n"
          ]
        },
        {
          "output_type": "stream",
          "name": "stdout",
          "text": [
            "CPU times: user 4min 10s, sys: 6.28 s, total: 4min 16s\n",
            "Wall time: 4min 14s\n"
          ]
        },
        {
          "output_type": "execute_result",
          "data": {
            "text/plain": [
              "[828.8318928072779,\n",
              " 825.8482130153809,\n",
              " 1042.624333928901,\n",
              " 861.651378718256,\n",
              " 678.316647455806,\n",
              " 1042.006664013473,\n",
              " 911.0743204594362,\n",
              " 1052.267097685206,\n",
              " 945.2460221514519,\n",
              " 764.8748154615962,\n",
              " 966.8438483785757,\n",
              " 1324.4163547409516,\n",
              " 1224.9006936595201,\n",
              " 918.9817377652937,\n",
              " 930.660796234508,\n",
              " 1408.8694724696056,\n",
              " 1799.987293664399,\n",
              " 1740.472269863289,\n",
              " 910.4802398053001,\n",
              " 1500.4101618775617,\n",
              " 1175.962499048572,\n",
              " 1451.034038192282,\n",
              " 1487.1530776918198]"
            ]
          },
          "metadata": {},
          "execution_count": 124
        }
      ]
    },
    {
      "cell_type": "code",
      "source": [
        "%%time\n",
        "Set_E_result = running_ants(instances_E, alpha=0.3, beta=2.4, q0=0.9, ITERATIONS=1000)\n",
        "Set_E_result"
      ],
      "metadata": {
        "colab": {
          "base_uri": "https://localhost:8080/"
        },
        "id": "_5AP83RW0cxV",
        "outputId": "63e0f798-122a-4457-aca5-c53bcf8d930d"
      },
      "execution_count": null,
      "outputs": [
        {
          "output_type": "stream",
          "name": "stdout",
          "text": [
            "CPU times: user 3min 19s, sys: 5.52 s, total: 3min 24s\n",
            "Wall time: 3min 24s\n"
          ]
        },
        {
          "output_type": "execute_result",
          "data": {
            "text/plain": [
              "[1354.598007970632,\n",
              " 1143.754691644278,\n",
              " 366.0,\n",
              " 437.07684288851755,\n",
              " 470.20940131149496,\n",
              " 642.8371401834474,\n",
              " 1230.0,\n",
              " 1004.6406836932788,\n",
              " 720.5743678467508,\n",
              " 955.8109404766301,\n",
              " 1038.1204950748681,\n",
              " 926.5774456676588,\n",
              " 993.7697555727941]"
            ]
          },
          "metadata": {},
          "execution_count": 125
        }
      ]
    },
    {
      "cell_type": "code",
      "source": [
        "def diff(a, b):\n",
        "    result = abs(a - b) / a\n",
        "    return result\n",
        "\n",
        "def plotting(solutions, instances, result, text):\n",
        "    dimensions = []\n",
        "    for elem in instances:\n",
        "        dimensions.append(vrplib.read_instance(elem)['dimension'])\n",
        "\n",
        "    costs_optimal = []\n",
        "    for elem in solutions:\n",
        "        costs_optimal.append(vrplib.read_solution(elem)['cost'])\n",
        "\n",
        "    diffes = []\n",
        "    for i in range(len(costs_optimal)):\n",
        "        diffes.append(diff(costs_optimal[i], result[i]))\n",
        "\n",
        "    plt.figure(figsize=(8, 6))\n",
        "    plt.plot(dimensions, diffes)\n",
        "    plt.title(text)\n",
        "    plt.xlabel('nodes', size=14)\n",
        "    plt.ylabel('error', size=14)\n",
        "    plt.grid()\n",
        "    plt.show()\n",
        "\n",
        "def plotting_scatter(solutions, instances, result, text):\n",
        "    dimensions = []\n",
        "    for elem in instances:\n",
        "        dimensions.append(vrplib.read_instance(elem)['dimension'])\n",
        "\n",
        "    costs_optimal = []\n",
        "    for elem in solutions:\n",
        "        costs_optimal.append(vrplib.read_solution(elem)['cost'])\n",
        "\n",
        "    diffes = []\n",
        "    for i in range(len(costs_optimal)):\n",
        "        diffes.append(diff(costs_optimal[i], result[i]))\n",
        "\n",
        "    plt.figure(figsize=(8, 6))\n",
        "    plt.scatter(dimensions, diffes)\n",
        "    plt.title(text)\n",
        "    plt.xlabel('nodes', size=14)\n",
        "    plt.ylabel('error', size=14)\n",
        "    plt.grid()\n",
        "    plt.show()\n",
        "\n",
        "def plotting_hybrid(solutions, instances, result, text):\n",
        "    dimensions = []\n",
        "    for elem in instances:\n",
        "        dimensions.append(vrplib.read_instance(elem)['dimension'])\n",
        "\n",
        "    costs_optimal = []\n",
        "    for elem in solutions:\n",
        "        costs_optimal.append(vrplib.read_solution(elem)['cost'])\n",
        "\n",
        "    diffes = []\n",
        "    for i in range(len(costs_optimal)):\n",
        "        diffes.append(diff(costs_optimal[i], result[i]))\n",
        "\n",
        "    plt.figure(figsize=(8, 6))\n",
        "    plt.scatter(dimensions, diffes, linewidths=1)\n",
        "    plt.plot(dimensions, diffes)\n",
        "    plt.title(text)\n",
        "    plt.xlabel('nodes', size=14)\n",
        "    plt.ylabel('error', size=14)\n",
        "    plt.grid()\n",
        "    plt.show()"
      ],
      "metadata": {
        "id": "RMaXCAH0QDFs"
      },
      "execution_count": null,
      "outputs": []
    },
    {
      "cell_type": "code",
      "source": [
        "# alpha = 0.2\n",
        "# beta = 2.5\n",
        "# q0 = 0.9\n",
        "\n",
        "plotting_hybrid(solutions_A, instances_A, Set_A_result, 'Set A, 4min 47s')"
      ],
      "metadata": {
        "colab": {
          "base_uri": "https://localhost:8080/",
          "height": 569
        },
        "id": "ue_H1I-h-Ev_",
        "outputId": "728839bd-d27c-43c8-ad94-bdb46befe00e"
      },
      "execution_count": null,
      "outputs": [
        {
          "output_type": "display_data",
          "data": {
            "text/plain": [
              "<Figure size 800x600 with 1 Axes>"
            ],
            "image/png": "[encoded data removed]"
          },
          "metadata": {}
        }
      ]
    },
    {
      "cell_type": "code",
      "source": [
        "# alpha = 0.9\n",
        "# beta = 2\n",
        "# q0 = 0.9\n",
        "\n",
        "plotting_scatter(solutions_B, instances_B, Set_B_result, 'Set B, 4min 4s')"
      ],
      "metadata": {
        "colab": {
          "base_uri": "https://localhost:8080/",
          "height": 569
        },
        "id": "2GV3TGZg6kk1",
        "outputId": "cb481175-fb31-4f01-edf3-3499b1830561"
      },
      "execution_count": null,
      "outputs": [
        {
          "output_type": "display_data",
          "data": {
            "text/plain": [
              "<Figure size 800x600 with 1 Axes>"
            ],
            "image/png": "[encoded data removed]"
          },
          "metadata": {}
        }
      ]
    },
    {
      "cell_type": "code",
      "source": [
        "# alpha = 0.3\n",
        "# beta = 2.4\n",
        "# q0 = 0.9\n",
        "\n",
        "plotting_scatter(solutions_E, instances_E, Set_E_result, 'Set E, 3min 3s')"
      ],
      "metadata": {
        "id": "ErOqXv_ZSiIK",
        "colab": {
          "base_uri": "https://localhost:8080/",
          "height": 569
        },
        "outputId": "55386522-fa4c-4c8e-892c-2a0cd4c8e253"
      },
      "execution_count": null,
      "outputs": [
        {
          "output_type": "display_data",
          "data": {
            "text/plain": [
              "<Figure size 800x600 with 1 Axes>"
            ],
            "image/png": "[encoded data removed]"
          },
          "metadata": {}
        }
      ]
    },
    {
      "cell_type": "code",
      "source": [],
      "metadata": {
        "id": "OGg0B0zL6knL"
      },
      "execution_count": null,
      "outputs": []
    }
  ]
}